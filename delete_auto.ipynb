{
 "cells": [
  {
   "cell_type": "markdown",
   "metadata": {},
   "source": [
    "- exported 파일 이름 변경\n",
    "- 2020-07-30 파일 삭제"
   ]
  },
  {
   "cell_type": "code",
   "execution_count": null,
   "metadata": {},
   "outputs": [],
   "source": [
    "import os\n",
    "import re\n",
    "\n",
    "f = open(\"C:\\\\Users\\\\user\\\\Desktop\\\\a.txt\", encoding=\"UTF8\")\n",
    "lines = f.readlines()\n",
    "for line in lines:\n",
    "    if line == \"\\n\":\n",
    "        pass\n",
    "    else:\n",
    "        title = line[:-1]\n",
    "        break\n",
    "f.close()\n",
    "\n",
    "os.chdir(\"C:\\\\Users\\\\user\\\\Videos\")\n",
    "for filename in os.listdir():\n",
    "    if re.search(\"exported\", filename):\n",
    "        os.rename(filename, title + \".mp4\")\n",
    "    elif re.search(\"[0-9][0-9][0-9][0-9]-[0-9][0-9]-[0-9][0-9]\", filename):\n",
    "        os.remove(filename)"
   ]
  }
 ],
 "metadata": {
  "kernelspec": {
   "display_name": "Python 3",
   "language": "python",
   "name": "python3"
  }
 },
 "nbformat": 4,
 "nbformat_minor": 2
}

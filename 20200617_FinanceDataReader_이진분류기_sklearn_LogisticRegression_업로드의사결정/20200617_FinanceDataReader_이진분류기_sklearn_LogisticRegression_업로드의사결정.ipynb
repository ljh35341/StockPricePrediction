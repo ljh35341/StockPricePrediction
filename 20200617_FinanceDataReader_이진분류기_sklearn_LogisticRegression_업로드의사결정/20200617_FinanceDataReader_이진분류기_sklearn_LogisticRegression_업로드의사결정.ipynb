{
 "cells": [
  {
   "cell_type": "markdown",
   "metadata": {},
   "source": [
    "# 업로드의사결정\n",
    "## FinanceData\n",
    "- https://github.com/FinanceData/FinanceDataReader\n",
    "- https://www.facebook.com/1797634483858888/posts/2696717283950599/"
   ]
  },
  {
   "cell_type": "markdown",
   "metadata": {},
   "source": [
    "# 전처리"
   ]
  },
  {
   "cell_type": "markdown",
   "metadata": {},
   "source": [
    "## 불러오기"
   ]
  },
  {
   "cell_type": "code",
   "execution_count": 372,
   "metadata": {
    "scrolled": false
   },
   "outputs": [
    {
     "data": {
      "text/html": [
       "<div>\n",
       "<style scoped>\n",
       "    .dataframe tbody tr th:only-of-type {\n",
       "        vertical-align: middle;\n",
       "    }\n",
       "\n",
       "    .dataframe tbody tr th {\n",
       "        vertical-align: top;\n",
       "    }\n",
       "\n",
       "    .dataframe thead th {\n",
       "        text-align: right;\n",
       "    }\n",
       "</style>\n",
       "<table border=\"1\" class=\"dataframe\">\n",
       "  <thead>\n",
       "    <tr style=\"text-align: right;\">\n",
       "      <th></th>\n",
       "      <th>동영상</th>\n",
       "      <th>동영상 제목</th>\n",
       "      <th>동영상 게시 시간</th>\n",
       "      <th>조회수</th>\n",
       "      <th>시청 시간(단위: 시간)</th>\n",
       "      <th>구독자</th>\n",
       "      <th>추정 수익 (USD)</th>\n",
       "      <th>노출수</th>\n",
       "      <th>노출 클릭률 (%)</th>\n",
       "    </tr>\n",
       "  </thead>\n",
       "  <tbody>\n",
       "    <tr>\n",
       "      <th>0</th>\n",
       "      <td>합계</td>\n",
       "      <td>NaN</td>\n",
       "      <td>NaN</td>\n",
       "      <td>980496</td>\n",
       "      <td>73703.4559</td>\n",
       "      <td>1482</td>\n",
       "      <td>3230.456</td>\n",
       "      <td>8024726</td>\n",
       "      <td>8.11</td>\n",
       "    </tr>\n",
       "    <tr>\n",
       "      <th>1</th>\n",
       "      <td>zONfGalNqMY</td>\n",
       "      <td>에이치엘비, 유상증자 뒤 급등사례 한미약품</td>\n",
       "      <td>Apr 20, 2020</td>\n",
       "      <td>15320</td>\n",
       "      <td>1836.3546</td>\n",
       "      <td>28</td>\n",
       "      <td>48.035</td>\n",
       "      <td>143532</td>\n",
       "      <td>7.51</td>\n",
       "    </tr>\n",
       "    <tr>\n",
       "      <th>2</th>\n",
       "      <td>4mzVtXuq4aQ</td>\n",
       "      <td>에이치엘비, 임상3상 구두 발표 뉴스기사 나왔습니다. 수익 나는 기업의 모습을 갖춰...</td>\n",
       "      <td>May 30, 2020</td>\n",
       "      <td>14020</td>\n",
       "      <td>1209.9933</td>\n",
       "      <td>36</td>\n",
       "      <td>66.799</td>\n",
       "      <td>62307</td>\n",
       "      <td>15.49</td>\n",
       "    </tr>\n",
       "    <tr>\n",
       "      <th>3</th>\n",
       "      <td>Im2tab42mW4</td>\n",
       "      <td>에이치엘비 신주인수권 월요일 '매수/매도/가만히'를 준비하세요. (유상증자청약)</td>\n",
       "      <td>May 9, 2020</td>\n",
       "      <td>12165</td>\n",
       "      <td>1001.1928</td>\n",
       "      <td>32</td>\n",
       "      <td>51.581</td>\n",
       "      <td>85546</td>\n",
       "      <td>8.38</td>\n",
       "    </tr>\n",
       "    <tr>\n",
       "      <th>4</th>\n",
       "      <td>Qg1GIWW5Lbk</td>\n",
       "      <td>에이치엘비 무상증자는 6월4일 매수 후 하룻밤 지나야합니다. 레고켐바이오와 비디아이...</td>\n",
       "      <td>Jun 1, 2020</td>\n",
       "      <td>10348</td>\n",
       "      <td>853.0872</td>\n",
       "      <td>16</td>\n",
       "      <td>21.202</td>\n",
       "      <td>66653</td>\n",
       "      <td>10.34</td>\n",
       "    </tr>\n",
       "  </tbody>\n",
       "</table>\n",
       "</div>"
      ],
      "text/plain": [
       "           동영상                                             동영상 제목  \\\n",
       "0           합계                                                NaN   \n",
       "1  zONfGalNqMY                            에이치엘비, 유상증자 뒤 급등사례 한미약품   \n",
       "2  4mzVtXuq4aQ  에이치엘비, 임상3상 구두 발표 뉴스기사 나왔습니다. 수익 나는 기업의 모습을 갖춰...   \n",
       "3  Im2tab42mW4       에이치엘비 신주인수권 월요일 '매수/매도/가만히'를 준비하세요. (유상증자청약)   \n",
       "4  Qg1GIWW5Lbk  에이치엘비 무상증자는 6월4일 매수 후 하룻밤 지나야합니다. 레고켐바이오와 비디아이...   \n",
       "\n",
       "      동영상 게시 시간     조회수  시청 시간(단위: 시간)   구독자  추정 수익 (USD)      노출수  노출 클릭률 (%)  \n",
       "0           NaN  980496     73703.4559  1482     3230.456  8024726        8.11  \n",
       "1  Apr 20, 2020   15320      1836.3546    28       48.035   143532        7.51  \n",
       "2  May 30, 2020   14020      1209.9933    36       66.799    62307       15.49  \n",
       "3   May 9, 2020   12165      1001.1928    32       51.581    85546        8.38  \n",
       "4   Jun 1, 2020   10348       853.0872    16       21.202    66653       10.34  "
      ]
     },
     "execution_count": 372,
     "metadata": {},
     "output_type": "execute_result"
    }
   ],
   "source": [
    "import numpy as np\n",
    "import pandas as pd\n",
    "\n",
    "df = pd.read_csv('표 데이터.csv')\n",
    "df.head()"
   ]
  },
  {
   "cell_type": "markdown",
   "metadata": {},
   "source": [
    "## Drop"
   ]
  },
  {
   "cell_type": "code",
   "execution_count": 373,
   "metadata": {
    "scrolled": true
   },
   "outputs": [
    {
     "data": {
      "text/html": [
       "<div>\n",
       "<style scoped>\n",
       "    .dataframe tbody tr th:only-of-type {\n",
       "        vertical-align: middle;\n",
       "    }\n",
       "\n",
       "    .dataframe tbody tr th {\n",
       "        vertical-align: top;\n",
       "    }\n",
       "\n",
       "    .dataframe thead th {\n",
       "        text-align: right;\n",
       "    }\n",
       "</style>\n",
       "<table border=\"1\" class=\"dataframe\">\n",
       "  <thead>\n",
       "    <tr style=\"text-align: right;\">\n",
       "      <th></th>\n",
       "      <th>동영상 제목</th>\n",
       "      <th>동영상 게시 시간</th>\n",
       "      <th>조회수</th>\n",
       "    </tr>\n",
       "  </thead>\n",
       "  <tbody>\n",
       "    <tr>\n",
       "      <th>1</th>\n",
       "      <td>에이치엘비, 유상증자 뒤 급등사례 한미약품</td>\n",
       "      <td>Apr 20, 2020</td>\n",
       "      <td>15320</td>\n",
       "    </tr>\n",
       "    <tr>\n",
       "      <th>2</th>\n",
       "      <td>에이치엘비, 임상3상 구두 발표 뉴스기사 나왔습니다. 수익 나는 기업의 모습을 갖춰...</td>\n",
       "      <td>May 30, 2020</td>\n",
       "      <td>14020</td>\n",
       "    </tr>\n",
       "    <tr>\n",
       "      <th>3</th>\n",
       "      <td>에이치엘비 신주인수권 월요일 '매수/매도/가만히'를 준비하세요. (유상증자청약)</td>\n",
       "      <td>May 9, 2020</td>\n",
       "      <td>12165</td>\n",
       "    </tr>\n",
       "    <tr>\n",
       "      <th>4</th>\n",
       "      <td>에이치엘비 무상증자는 6월4일 매수 후 하룻밤 지나야합니다. 레고켐바이오와 비디아이...</td>\n",
       "      <td>Jun 1, 2020</td>\n",
       "      <td>10348</td>\n",
       "    </tr>\n",
       "    <tr>\n",
       "      <th>5</th>\n",
       "      <td>에이치엘비 갭상승 이유는 MSCI 리밸런싱!! 그리고 높아지는 중국비중(ETF) |...</td>\n",
       "      <td>May 29, 2020</td>\n",
       "      <td>10215</td>\n",
       "    </tr>\n",
       "  </tbody>\n",
       "</table>\n",
       "</div>"
      ],
      "text/plain": [
       "                                              동영상 제목     동영상 게시 시간    조회수\n",
       "1                            에이치엘비, 유상증자 뒤 급등사례 한미약품  Apr 20, 2020  15320\n",
       "2  에이치엘비, 임상3상 구두 발표 뉴스기사 나왔습니다. 수익 나는 기업의 모습을 갖춰...  May 30, 2020  14020\n",
       "3       에이치엘비 신주인수권 월요일 '매수/매도/가만히'를 준비하세요. (유상증자청약)   May 9, 2020  12165\n",
       "4  에이치엘비 무상증자는 6월4일 매수 후 하룻밤 지나야합니다. 레고켐바이오와 비디아이...   Jun 1, 2020  10348\n",
       "5  에이치엘비 갭상승 이유는 MSCI 리밸런싱!! 그리고 높아지는 중국비중(ETF) |...  May 29, 2020  10215"
      ]
     },
     "execution_count": 373,
     "metadata": {},
     "output_type": "execute_result"
    }
   ],
   "source": [
    "df = df.drop(0)  # 첫줄(합계) row 삭제\n",
    "df = df.drop(['동영상', '시청 시간(단위: 시간)','구독자','추정 수익 (USD)','노출수','노출 클릭률 (%)'], axis=1)  # 필요없는 column 삭제\n",
    "df.head()"
   ]
  },
  {
   "cell_type": "markdown",
   "metadata": {},
   "source": [
    "## 동영상 게시 시간\n",
    "- Apr 20, 2020 → 2020-04-20\n",
    "- FinanceDataReader와 Format 통일\n",
    "- https://stackoverflow.com/questions/17134716/convert-dataframe-column-type-from-string-to-datetime-dd-mm-yyyy-format\n",
    "- https://stackoverflow.com/questions/16176996/keep-only-date-part-when-using-pandas-to-datetime"
   ]
  },
  {
   "cell_type": "code",
   "execution_count": 374,
   "metadata": {
    "scrolled": true
   },
   "outputs": [
    {
     "data": {
      "text/html": [
       "<div>\n",
       "<style scoped>\n",
       "    .dataframe tbody tr th:only-of-type {\n",
       "        vertical-align: middle;\n",
       "    }\n",
       "\n",
       "    .dataframe tbody tr th {\n",
       "        vertical-align: top;\n",
       "    }\n",
       "\n",
       "    .dataframe thead th {\n",
       "        text-align: right;\n",
       "    }\n",
       "</style>\n",
       "<table border=\"1\" class=\"dataframe\">\n",
       "  <thead>\n",
       "    <tr style=\"text-align: right;\">\n",
       "      <th></th>\n",
       "      <th>동영상 제목</th>\n",
       "      <th>동영상 게시 시간</th>\n",
       "      <th>조회수</th>\n",
       "    </tr>\n",
       "  </thead>\n",
       "  <tbody>\n",
       "    <tr>\n",
       "      <th>1</th>\n",
       "      <td>에이치엘비, 유상증자 뒤 급등사례 한미약품</td>\n",
       "      <td>2020-04-20</td>\n",
       "      <td>15320</td>\n",
       "    </tr>\n",
       "    <tr>\n",
       "      <th>2</th>\n",
       "      <td>에이치엘비, 임상3상 구두 발표 뉴스기사 나왔습니다. 수익 나는 기업의 모습을 갖춰...</td>\n",
       "      <td>2020-05-30</td>\n",
       "      <td>14020</td>\n",
       "    </tr>\n",
       "    <tr>\n",
       "      <th>3</th>\n",
       "      <td>에이치엘비 신주인수권 월요일 '매수/매도/가만히'를 준비하세요. (유상증자청약)</td>\n",
       "      <td>2020-05-09</td>\n",
       "      <td>12165</td>\n",
       "    </tr>\n",
       "    <tr>\n",
       "      <th>4</th>\n",
       "      <td>에이치엘비 무상증자는 6월4일 매수 후 하룻밤 지나야합니다. 레고켐바이오와 비디아이...</td>\n",
       "      <td>2020-06-01</td>\n",
       "      <td>10348</td>\n",
       "    </tr>\n",
       "    <tr>\n",
       "      <th>5</th>\n",
       "      <td>에이치엘비 갭상승 이유는 MSCI 리밸런싱!! 그리고 높아지는 중국비중(ETF) |...</td>\n",
       "      <td>2020-05-29</td>\n",
       "      <td>10215</td>\n",
       "    </tr>\n",
       "  </tbody>\n",
       "</table>\n",
       "</div>"
      ],
      "text/plain": [
       "                                              동영상 제목  동영상 게시 시간    조회수\n",
       "1                            에이치엘비, 유상증자 뒤 급등사례 한미약품 2020-04-20  15320\n",
       "2  에이치엘비, 임상3상 구두 발표 뉴스기사 나왔습니다. 수익 나는 기업의 모습을 갖춰... 2020-05-30  14020\n",
       "3       에이치엘비 신주인수권 월요일 '매수/매도/가만히'를 준비하세요. (유상증자청약) 2020-05-09  12165\n",
       "4  에이치엘비 무상증자는 6월4일 매수 후 하룻밤 지나야합니다. 레고켐바이오와 비디아이... 2020-06-01  10348\n",
       "5  에이치엘비 갭상승 이유는 MSCI 리밸런싱!! 그리고 높아지는 중국비중(ETF) |... 2020-05-29  10215"
      ]
     },
     "execution_count": 374,
     "metadata": {},
     "output_type": "execute_result"
    }
   ],
   "source": [
    "df['동영상 게시 시간'] = pd.to_datetime(df['동영상 게시 시간'])\n",
    "df.head()"
   ]
  },
  {
   "cell_type": "markdown",
   "metadata": {},
   "source": [
    "## Feature\n",
    "- 1월|2월|3월 == 1월 or 2월 or 3월\n",
    "- https://pandas.pydata.org/pandas-docs/stable/reference/api/pandas.Series.str.contains.html"
   ]
  },
  {
   "cell_type": "code",
   "execution_count": 375,
   "metadata": {
    "scrolled": true
   },
   "outputs": [
    {
     "data": {
      "text/html": [
       "<div>\n",
       "<style scoped>\n",
       "    .dataframe tbody tr th:only-of-type {\n",
       "        vertical-align: middle;\n",
       "    }\n",
       "\n",
       "    .dataframe tbody tr th {\n",
       "        vertical-align: top;\n",
       "    }\n",
       "\n",
       "    .dataframe thead th {\n",
       "        text-align: right;\n",
       "    }\n",
       "</style>\n",
       "<table border=\"1\" class=\"dataframe\">\n",
       "  <thead>\n",
       "    <tr style=\"text-align: right;\">\n",
       "      <th></th>\n",
       "      <th>동영상 제목</th>\n",
       "      <th>동영상 게시 시간</th>\n",
       "      <th>조회수</th>\n",
       "      <th>에이치엘비</th>\n",
       "      <th>일정</th>\n",
       "      <th>y_label</th>\n",
       "    </tr>\n",
       "  </thead>\n",
       "  <tbody>\n",
       "    <tr>\n",
       "      <th>1</th>\n",
       "      <td>에이치엘비, 유상증자 뒤 급등사례 한미약품</td>\n",
       "      <td>2020-04-20</td>\n",
       "      <td>15320</td>\n",
       "      <td>1</td>\n",
       "      <td>0</td>\n",
       "      <td>1</td>\n",
       "    </tr>\n",
       "    <tr>\n",
       "      <th>2</th>\n",
       "      <td>에이치엘비, 임상3상 구두 발표 뉴스기사 나왔습니다. 수익 나는 기업의 모습을 갖춰...</td>\n",
       "      <td>2020-05-30</td>\n",
       "      <td>14020</td>\n",
       "      <td>1</td>\n",
       "      <td>1</td>\n",
       "      <td>1</td>\n",
       "    </tr>\n",
       "    <tr>\n",
       "      <th>3</th>\n",
       "      <td>에이치엘비 신주인수권 월요일 '매수/매도/가만히'를 준비하세요. (유상증자청약)</td>\n",
       "      <td>2020-05-09</td>\n",
       "      <td>12165</td>\n",
       "      <td>1</td>\n",
       "      <td>1</td>\n",
       "      <td>1</td>\n",
       "    </tr>\n",
       "    <tr>\n",
       "      <th>4</th>\n",
       "      <td>에이치엘비 무상증자는 6월4일 매수 후 하룻밤 지나야합니다. 레고켐바이오와 비디아이...</td>\n",
       "      <td>2020-06-01</td>\n",
       "      <td>10348</td>\n",
       "      <td>1</td>\n",
       "      <td>1</td>\n",
       "      <td>1</td>\n",
       "    </tr>\n",
       "    <tr>\n",
       "      <th>5</th>\n",
       "      <td>에이치엘비 갭상승 이유는 MSCI 리밸런싱!! 그리고 높아지는 중국비중(ETF) |...</td>\n",
       "      <td>2020-05-29</td>\n",
       "      <td>10215</td>\n",
       "      <td>1</td>\n",
       "      <td>0</td>\n",
       "      <td>1</td>\n",
       "    </tr>\n",
       "  </tbody>\n",
       "</table>\n",
       "</div>"
      ],
      "text/plain": [
       "                                              동영상 제목  동영상 게시 시간    조회수  에이치엘비  \\\n",
       "1                            에이치엘비, 유상증자 뒤 급등사례 한미약품 2020-04-20  15320      1   \n",
       "2  에이치엘비, 임상3상 구두 발표 뉴스기사 나왔습니다. 수익 나는 기업의 모습을 갖춰... 2020-05-30  14020      1   \n",
       "3       에이치엘비 신주인수권 월요일 '매수/매도/가만히'를 준비하세요. (유상증자청약) 2020-05-09  12165      1   \n",
       "4  에이치엘비 무상증자는 6월4일 매수 후 하룻밤 지나야합니다. 레고켐바이오와 비디아이... 2020-06-01  10348      1   \n",
       "5  에이치엘비 갭상승 이유는 MSCI 리밸런싱!! 그리고 높아지는 중국비중(ETF) |... 2020-05-29  10215      1   \n",
       "\n",
       "   일정  y_label  \n",
       "1   0        1  \n",
       "2   1        1  \n",
       "3   1        1  \n",
       "4   1        1  \n",
       "5   0        1  "
      ]
     },
     "execution_count": 375,
     "metadata": {},
     "output_type": "execute_result"
    }
   ],
   "source": [
    "df['에이치엘비'] = (df['동영상 제목'].str.contains('에이치엘비')).astype(int)\n",
    "df['일정'] = (df['동영상 제목'].str.contains('1월|2월|3월|4월|5월|6월|7월|8월|9월|10월|11월|12월|1일|2일|3일|4일|5일|6일|7일|8일|9일|10일|11일|12일|13일|13일|14일|15일|16일|17일|18일|19일|20일|21일|22일|23일|24일|25일|26일|27일|28일|29일|30일|31일|요일|내일|이번주|다음주')).astype(int) \n",
    "df['y_label'] = (df['조회수']>df['조회수'].mean()).astype(int)\n",
    "df.head()"
   ]
  },
  {
   "cell_type": "markdown",
   "metadata": {},
   "source": [
    "<br>\n",
    "<br>\n",
    "<br>\n",
    "<br>\n",
    "<br>\n",
    "<br>\n",
    "<br>\n",
    "<br>\n",
    "<br>\n",
    "<br>"
   ]
  },
  {
   "cell_type": "markdown",
   "metadata": {},
   "source": [
    "# KOSDAQ Change\n",
    "- 주의사항: 업로드는 주말에도 하지만, 주가는 주말에는 없다.\n",
    "- KS11 코스피지수\n",
    "- KQ11 코스닥지수"
   ]
  },
  {
   "cell_type": "markdown",
   "metadata": {},
   "source": [
    "## 불러오기"
   ]
  },
  {
   "cell_type": "code",
   "execution_count": 376,
   "metadata": {},
   "outputs": [
    {
     "data": {
      "text/html": [
       "<div>\n",
       "<style scoped>\n",
       "    .dataframe tbody tr th:only-of-type {\n",
       "        vertical-align: middle;\n",
       "    }\n",
       "\n",
       "    .dataframe tbody tr th {\n",
       "        vertical-align: top;\n",
       "    }\n",
       "\n",
       "    .dataframe thead th {\n",
       "        text-align: right;\n",
       "    }\n",
       "</style>\n",
       "<table border=\"1\" class=\"dataframe\">\n",
       "  <thead>\n",
       "    <tr style=\"text-align: right;\">\n",
       "      <th></th>\n",
       "      <th>Close</th>\n",
       "      <th>Open</th>\n",
       "      <th>High</th>\n",
       "      <th>Low</th>\n",
       "      <th>Volume</th>\n",
       "      <th>Change</th>\n",
       "    </tr>\n",
       "    <tr>\n",
       "      <th>Date</th>\n",
       "      <th></th>\n",
       "      <th></th>\n",
       "      <th></th>\n",
       "      <th></th>\n",
       "      <th></th>\n",
       "      <th></th>\n",
       "    </tr>\n",
       "  </thead>\n",
       "  <tbody>\n",
       "    <tr>\n",
       "      <th>2020-06-11</th>\n",
       "      <td>757.06</td>\n",
       "      <td>760.07</td>\n",
       "      <td>766.96</td>\n",
       "      <td>752.04</td>\n",
       "      <td>1.450000e+09</td>\n",
       "      <td>-0.0021</td>\n",
       "    </tr>\n",
       "    <tr>\n",
       "      <th>2020-06-12</th>\n",
       "      <td>746.06</td>\n",
       "      <td>722.91</td>\n",
       "      <td>747.37</td>\n",
       "      <td>722.81</td>\n",
       "      <td>1.320000e+09</td>\n",
       "      <td>-0.0145</td>\n",
       "    </tr>\n",
       "    <tr>\n",
       "      <th>2020-06-15</th>\n",
       "      <td>693.15</td>\n",
       "      <td>745.60</td>\n",
       "      <td>747.21</td>\n",
       "      <td>693.15</td>\n",
       "      <td>1.470000e+09</td>\n",
       "      <td>-0.0709</td>\n",
       "    </tr>\n",
       "    <tr>\n",
       "      <th>2020-06-16</th>\n",
       "      <td>735.38</td>\n",
       "      <td>716.60</td>\n",
       "      <td>735.74</td>\n",
       "      <td>714.14</td>\n",
       "      <td>1.320000e+09</td>\n",
       "      <td>0.0609</td>\n",
       "    </tr>\n",
       "    <tr>\n",
       "      <th>2020-06-17</th>\n",
       "      <td>735.40</td>\n",
       "      <td>731.91</td>\n",
       "      <td>743.11</td>\n",
       "      <td>717.68</td>\n",
       "      <td>1.400000e+06</td>\n",
       "      <td>0.0000</td>\n",
       "    </tr>\n",
       "  </tbody>\n",
       "</table>\n",
       "</div>"
      ],
      "text/plain": [
       "             Close    Open    High     Low        Volume  Change\n",
       "Date                                                            \n",
       "2020-06-11  757.06  760.07  766.96  752.04  1.450000e+09 -0.0021\n",
       "2020-06-12  746.06  722.91  747.37  722.81  1.320000e+09 -0.0145\n",
       "2020-06-15  693.15  745.60  747.21  693.15  1.470000e+09 -0.0709\n",
       "2020-06-16  735.38  716.60  735.74  714.14  1.320000e+09  0.0609\n",
       "2020-06-17  735.40  731.91  743.11  717.68  1.400000e+06  0.0000"
      ]
     },
     "execution_count": 376,
     "metadata": {},
     "output_type": "execute_result"
    }
   ],
   "source": [
    "import FinanceDataReader as fdr\n",
    "\n",
    "kq11 = fdr.DataReader('KQ11', '2020-01-01')\n",
    "kq11.tail()"
   ]
  },
  {
   "cell_type": "markdown",
   "metadata": {},
   "source": [
    "## Change를 1,0으로 변환"
   ]
  },
  {
   "cell_type": "code",
   "execution_count": 377,
   "metadata": {},
   "outputs": [
    {
     "data": {
      "text/html": [
       "<div>\n",
       "<style scoped>\n",
       "    .dataframe tbody tr th:only-of-type {\n",
       "        vertical-align: middle;\n",
       "    }\n",
       "\n",
       "    .dataframe tbody tr th {\n",
       "        vertical-align: top;\n",
       "    }\n",
       "\n",
       "    .dataframe thead th {\n",
       "        text-align: right;\n",
       "    }\n",
       "</style>\n",
       "<table border=\"1\" class=\"dataframe\">\n",
       "  <thead>\n",
       "    <tr style=\"text-align: right;\">\n",
       "      <th></th>\n",
       "      <th>Close</th>\n",
       "      <th>Open</th>\n",
       "      <th>High</th>\n",
       "      <th>Low</th>\n",
       "      <th>Volume</th>\n",
       "      <th>Change</th>\n",
       "    </tr>\n",
       "    <tr>\n",
       "      <th>Date</th>\n",
       "      <th></th>\n",
       "      <th></th>\n",
       "      <th></th>\n",
       "      <th></th>\n",
       "      <th></th>\n",
       "      <th></th>\n",
       "    </tr>\n",
       "  </thead>\n",
       "  <tbody>\n",
       "    <tr>\n",
       "      <th>2020-06-11</th>\n",
       "      <td>757.06</td>\n",
       "      <td>760.07</td>\n",
       "      <td>766.96</td>\n",
       "      <td>752.04</td>\n",
       "      <td>1.450000e+09</td>\n",
       "      <td>0</td>\n",
       "    </tr>\n",
       "    <tr>\n",
       "      <th>2020-06-12</th>\n",
       "      <td>746.06</td>\n",
       "      <td>722.91</td>\n",
       "      <td>747.37</td>\n",
       "      <td>722.81</td>\n",
       "      <td>1.320000e+09</td>\n",
       "      <td>0</td>\n",
       "    </tr>\n",
       "    <tr>\n",
       "      <th>2020-06-15</th>\n",
       "      <td>693.15</td>\n",
       "      <td>745.60</td>\n",
       "      <td>747.21</td>\n",
       "      <td>693.15</td>\n",
       "      <td>1.470000e+09</td>\n",
       "      <td>0</td>\n",
       "    </tr>\n",
       "    <tr>\n",
       "      <th>2020-06-16</th>\n",
       "      <td>735.38</td>\n",
       "      <td>716.60</td>\n",
       "      <td>735.74</td>\n",
       "      <td>714.14</td>\n",
       "      <td>1.320000e+09</td>\n",
       "      <td>1</td>\n",
       "    </tr>\n",
       "    <tr>\n",
       "      <th>2020-06-17</th>\n",
       "      <td>735.40</td>\n",
       "      <td>731.91</td>\n",
       "      <td>743.11</td>\n",
       "      <td>717.68</td>\n",
       "      <td>1.400000e+06</td>\n",
       "      <td>0</td>\n",
       "    </tr>\n",
       "  </tbody>\n",
       "</table>\n",
       "</div>"
      ],
      "text/plain": [
       "             Close    Open    High     Low        Volume  Change\n",
       "Date                                                            \n",
       "2020-06-11  757.06  760.07  766.96  752.04  1.450000e+09       0\n",
       "2020-06-12  746.06  722.91  747.37  722.81  1.320000e+09       0\n",
       "2020-06-15  693.15  745.60  747.21  693.15  1.470000e+09       0\n",
       "2020-06-16  735.38  716.60  735.74  714.14  1.320000e+09       1\n",
       "2020-06-17  735.40  731.91  743.11  717.68  1.400000e+06       0"
      ]
     },
     "execution_count": 377,
     "metadata": {},
     "output_type": "execute_result"
    }
   ],
   "source": [
    "kq11['Change'] = (kq11['Change'] > 0).astype(int)\n",
    "kq11.tail()"
   ]
  },
  {
   "cell_type": "markdown",
   "metadata": {},
   "source": [
    "## 동영상 게시 시간에 해당하는 KOSDAQ Change 찾아서 병합\n",
    "- 차후 좀 더 간단한 코드로 변경\n",
    "- 주말은 change=1"
   ]
  },
  {
   "cell_type": "code",
   "execution_count": 378,
   "metadata": {},
   "outputs": [
    {
     "data": {
      "text/plain": [
       "[1.0, 1.0, 1.0, 1.0, 1.0]"
      ]
     },
     "execution_count": 378,
     "metadata": {},
     "output_type": "execute_result"
    }
   ],
   "source": [
    "list = []\n",
    "for i in range(len(df)):\n",
    "    try:\n",
    "        list.append(kq11.loc[df['동영상 게시 시간'][i+1]]['Change'])\n",
    "    except:\n",
    "        list.append(1.0)\n",
    "list[:5]"
   ]
  },
  {
   "cell_type": "code",
   "execution_count": 379,
   "metadata": {},
   "outputs": [
    {
     "data": {
      "text/html": [
       "<div>\n",
       "<style scoped>\n",
       "    .dataframe tbody tr th:only-of-type {\n",
       "        vertical-align: middle;\n",
       "    }\n",
       "\n",
       "    .dataframe tbody tr th {\n",
       "        vertical-align: top;\n",
       "    }\n",
       "\n",
       "    .dataframe thead th {\n",
       "        text-align: right;\n",
       "    }\n",
       "</style>\n",
       "<table border=\"1\" class=\"dataframe\">\n",
       "  <thead>\n",
       "    <tr style=\"text-align: right;\">\n",
       "      <th></th>\n",
       "      <th>동영상 제목</th>\n",
       "      <th>동영상 게시 시간</th>\n",
       "      <th>조회수</th>\n",
       "      <th>에이치엘비</th>\n",
       "      <th>일정</th>\n",
       "      <th>y_label</th>\n",
       "      <th>kosdaq_change</th>\n",
       "    </tr>\n",
       "  </thead>\n",
       "  <tbody>\n",
       "    <tr>\n",
       "      <th>1</th>\n",
       "      <td>에이치엘비, 유상증자 뒤 급등사례 한미약품</td>\n",
       "      <td>2020-04-20</td>\n",
       "      <td>15320</td>\n",
       "      <td>1</td>\n",
       "      <td>0</td>\n",
       "      <td>1</td>\n",
       "      <td>1.0</td>\n",
       "    </tr>\n",
       "    <tr>\n",
       "      <th>2</th>\n",
       "      <td>에이치엘비, 임상3상 구두 발표 뉴스기사 나왔습니다. 수익 나는 기업의 모습을 갖춰...</td>\n",
       "      <td>2020-05-30</td>\n",
       "      <td>14020</td>\n",
       "      <td>1</td>\n",
       "      <td>1</td>\n",
       "      <td>1</td>\n",
       "      <td>1.0</td>\n",
       "    </tr>\n",
       "    <tr>\n",
       "      <th>3</th>\n",
       "      <td>에이치엘비 신주인수권 월요일 '매수/매도/가만히'를 준비하세요. (유상증자청약)</td>\n",
       "      <td>2020-05-09</td>\n",
       "      <td>12165</td>\n",
       "      <td>1</td>\n",
       "      <td>1</td>\n",
       "      <td>1</td>\n",
       "      <td>1.0</td>\n",
       "    </tr>\n",
       "    <tr>\n",
       "      <th>4</th>\n",
       "      <td>에이치엘비 무상증자는 6월4일 매수 후 하룻밤 지나야합니다. 레고켐바이오와 비디아이...</td>\n",
       "      <td>2020-06-01</td>\n",
       "      <td>10348</td>\n",
       "      <td>1</td>\n",
       "      <td>1</td>\n",
       "      <td>1</td>\n",
       "      <td>1.0</td>\n",
       "    </tr>\n",
       "    <tr>\n",
       "      <th>5</th>\n",
       "      <td>에이치엘비 갭상승 이유는 MSCI 리밸런싱!! 그리고 높아지는 중국비중(ETF) |...</td>\n",
       "      <td>2020-05-29</td>\n",
       "      <td>10215</td>\n",
       "      <td>1</td>\n",
       "      <td>0</td>\n",
       "      <td>1</td>\n",
       "      <td>1.0</td>\n",
       "    </tr>\n",
       "  </tbody>\n",
       "</table>\n",
       "</div>"
      ],
      "text/plain": [
       "                                              동영상 제목  동영상 게시 시간    조회수  에이치엘비  \\\n",
       "1                            에이치엘비, 유상증자 뒤 급등사례 한미약품 2020-04-20  15320      1   \n",
       "2  에이치엘비, 임상3상 구두 발표 뉴스기사 나왔습니다. 수익 나는 기업의 모습을 갖춰... 2020-05-30  14020      1   \n",
       "3       에이치엘비 신주인수권 월요일 '매수/매도/가만히'를 준비하세요. (유상증자청약) 2020-05-09  12165      1   \n",
       "4  에이치엘비 무상증자는 6월4일 매수 후 하룻밤 지나야합니다. 레고켐바이오와 비디아이... 2020-06-01  10348      1   \n",
       "5  에이치엘비 갭상승 이유는 MSCI 리밸런싱!! 그리고 높아지는 중국비중(ETF) |... 2020-05-29  10215      1   \n",
       "\n",
       "   일정  y_label  kosdaq_change  \n",
       "1   0        1            1.0  \n",
       "2   1        1            1.0  \n",
       "3   1        1            1.0  \n",
       "4   1        1            1.0  \n",
       "5   0        1            1.0  "
      ]
     },
     "execution_count": 379,
     "metadata": {},
     "output_type": "execute_result"
    }
   ],
   "source": [
    "df['kosdaq_change'] = list\n",
    "df.head()"
   ]
  },
  {
   "cell_type": "markdown",
   "metadata": {},
   "source": [
    "<br>\n",
    "<br>\n",
    "<br>\n",
    "<br>\n",
    "<br>\n",
    "<br>\n",
    "<br>\n",
    "<br>\n",
    "<br>\n",
    "<br>"
   ]
  },
  {
   "cell_type": "markdown",
   "metadata": {},
   "source": [
    "# Machin Learning"
   ]
  },
  {
   "cell_type": "code",
   "execution_count": 380,
   "metadata": {},
   "outputs": [],
   "source": [
    "X = df[['에이치엘비','일정', 'kosdaq_change']]\n",
    "y = df['y_label']"
   ]
  },
  {
   "cell_type": "code",
   "execution_count": 381,
   "metadata": {},
   "outputs": [],
   "source": [
    "from sklearn.model_selection import train_test_split\n",
    "X_train, X_test, y_train, y_test = train_test_split(X,y)"
   ]
  },
  {
   "cell_type": "code",
   "execution_count": 382,
   "metadata": {},
   "outputs": [
    {
     "name": "stderr",
     "output_type": "stream",
     "text": [
      "C:\\Users\\user\\Anaconda3\\lib\\site-packages\\sklearn\\linear_model\\logistic.py:433: FutureWarning: Default solver will be changed to 'lbfgs' in 0.22. Specify a solver to silence this warning.\n",
      "  FutureWarning)\n"
     ]
    },
    {
     "data": {
      "text/plain": [
       "0.8055555555555556"
      ]
     },
     "execution_count": 382,
     "metadata": {},
     "output_type": "execute_result"
    }
   ],
   "source": [
    "from sklearn.linear_model import LogisticRegression\n",
    "logreg = LogisticRegression().fit(X_train, y_train)\n",
    "logreg.score(X_test, y_test)"
   ]
  },
  {
   "cell_type": "code",
   "execution_count": 383,
   "metadata": {
    "scrolled": true
   },
   "outputs": [
    {
     "name": "stdout",
     "output_type": "stream",
     "text": [
      "[1]\n"
     ]
    }
   ],
   "source": [
    "pred = logreg.predict([[1,0,1]])\n",
    "print(pred)"
   ]
  },
  {
   "cell_type": "markdown",
   "metadata": {},
   "source": [
    "## 확률\n",
    "- https://scikit-learn.org/0.15/modules/generated/sklearn.linear_model.LogisticRegression.html"
   ]
  },
  {
   "cell_type": "code",
   "execution_count": 384,
   "metadata": {},
   "outputs": [
    {
     "data": {
      "text/plain": [
       "array([[0.34591811, 0.65408189]])"
      ]
     },
     "execution_count": 384,
     "metadata": {},
     "output_type": "execute_result"
    }
   ],
   "source": [
    "logreg.predict_proba([[1,0,0]])"
   ]
  },
  {
   "cell_type": "code",
   "execution_count": 385,
   "metadata": {
    "scrolled": true
   },
   "outputs": [
    {
     "data": {
      "text/plain": [
       "array([[0.11722557, 0.88277443]])"
      ]
     },
     "execution_count": 385,
     "metadata": {},
     "output_type": "execute_result"
    }
   ],
   "source": [
    "logreg.predict_proba([[1,1,0]])"
   ]
  },
  {
   "cell_type": "code",
   "execution_count": 386,
   "metadata": {},
   "outputs": [],
   "source": [
    "# 결론: 에이치엘비+일정이 조회수가 높다. 단독보다 일정이 추가된 영상이 더 높은 확률로 예측한다."
   ]
  }
 ],
 "metadata": {
  "kernelspec": {
   "display_name": "Python 3",
   "language": "python",
   "name": "python3"
  },
  "language_info": {
   "codemirror_mode": {
    "name": "ipython",
    "version": 3
   },
   "file_extension": ".py",
   "mimetype": "text/x-python",
   "name": "python",
   "nbconvert_exporter": "python",
   "pygments_lexer": "ipython3",
   "version": "3.7.3"
  }
 },
 "nbformat": 4,
 "nbformat_minor": 2
}

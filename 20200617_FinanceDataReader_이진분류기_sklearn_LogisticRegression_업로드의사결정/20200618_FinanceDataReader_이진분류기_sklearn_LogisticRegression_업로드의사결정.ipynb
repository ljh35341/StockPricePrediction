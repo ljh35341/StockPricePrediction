{
 "cells": [
  {
   "cell_type": "markdown",
   "metadata": {},
   "source": [
    "# 추가된 사항\n",
    "- 기존의 feature: '에이치엘비', '일정', 'kosdaq_change'\n",
    "- 여기에 '악재'를 추가하였습니다.\n",
    "- 제목에 '-10%부터 -30%'까지 혹은 '하한가' 있다면 1 할당, 아니면 0 할당"
   ]
  },
  {
   "cell_type": "markdown",
   "metadata": {},
   "source": [
    "# 데이터 수집"
   ]
  },
  {
   "attachments": {
    "image.png": {
     "image/png": "[encoded data removed]"
    }
   },
   "cell_type": "markdown",
   "metadata": {},
   "source": [
    "# ![image.png](attachment:image.png)"
   ]
  },
  {
   "cell_type": "markdown",
   "metadata": {},
   "source": [
    "# 전처리 "
   ]
  },
  {
   "cell_type": "markdown",
   "metadata": {},
   "source": [
    "## 불러오기"
   ]
  },
  {
   "cell_type": "code",
   "execution_count": 47,
   "metadata": {},
   "outputs": [
    {
     "data": {
      "text/html": [
       "<div>\n",
       "<style scoped>\n",
       "    .dataframe tbody tr th:only-of-type {\n",
       "        vertical-align: middle;\n",
       "    }\n",
       "\n",
       "    .dataframe tbody tr th {\n",
       "        vertical-align: top;\n",
       "    }\n",
       "\n",
       "    .dataframe thead th {\n",
       "        text-align: right;\n",
       "    }\n",
       "</style>\n",
       "<table border=\"1\" class=\"dataframe\">\n",
       "  <thead>\n",
       "    <tr style=\"text-align: right;\">\n",
       "      <th></th>\n",
       "      <th>동영상</th>\n",
       "      <th>동영상 제목</th>\n",
       "      <th>동영상 게시 시간</th>\n",
       "      <th>조회수</th>\n",
       "      <th>시청 시간(단위: 시간)</th>\n",
       "      <th>구독자</th>\n",
       "      <th>추정 수익 (USD)</th>\n",
       "      <th>노출수</th>\n",
       "      <th>노출 클릭률 (%)</th>\n",
       "    </tr>\n",
       "  </thead>\n",
       "  <tbody>\n",
       "    <tr>\n",
       "      <th>0</th>\n",
       "      <td>합계</td>\n",
       "      <td>NaN</td>\n",
       "      <td>NaN</td>\n",
       "      <td>974790</td>\n",
       "      <td>73225.0067</td>\n",
       "      <td>1471</td>\n",
       "      <td>3214.514</td>\n",
       "      <td>7942494</td>\n",
       "      <td>8.13</td>\n",
       "    </tr>\n",
       "    <tr>\n",
       "      <th>1</th>\n",
       "      <td>zONfGalNqMY</td>\n",
       "      <td>에이치엘비, 유상증자 뒤 급등사례 한미약품</td>\n",
       "      <td>Apr 20, 2020</td>\n",
       "      <td>15320</td>\n",
       "      <td>1836.3546</td>\n",
       "      <td>28</td>\n",
       "      <td>48.040</td>\n",
       "      <td>143608</td>\n",
       "      <td>7.51</td>\n",
       "    </tr>\n",
       "    <tr>\n",
       "      <th>2</th>\n",
       "      <td>4mzVtXuq4aQ</td>\n",
       "      <td>에이치엘비, 임상3상 구두 발표 뉴스기사 나왔습니다. 수익 나는 기업의 모습을 갖춰...</td>\n",
       "      <td>May 30, 2020</td>\n",
       "      <td>14024</td>\n",
       "      <td>1210.0558</td>\n",
       "      <td>36</td>\n",
       "      <td>66.821</td>\n",
       "      <td>62390</td>\n",
       "      <td>15.47</td>\n",
       "    </tr>\n",
       "    <tr>\n",
       "      <th>3</th>\n",
       "      <td>Im2tab42mW4</td>\n",
       "      <td>에이치엘비 신주인수권 월요일 '매수/매도/가만히'를 준비하세요. (유상증자청약)</td>\n",
       "      <td>May 9, 2020</td>\n",
       "      <td>12166</td>\n",
       "      <td>1001.2145</td>\n",
       "      <td>32</td>\n",
       "      <td>51.584</td>\n",
       "      <td>85631</td>\n",
       "      <td>8.37</td>\n",
       "    </tr>\n",
       "    <tr>\n",
       "      <th>4</th>\n",
       "      <td>Qg1GIWW5Lbk</td>\n",
       "      <td>에이치엘비 무상증자는 6월4일 매수 후 하룻밤 지나야합니다. 레고켐바이오와 비디아이...</td>\n",
       "      <td>Jun 1, 2020</td>\n",
       "      <td>10362</td>\n",
       "      <td>854.2180</td>\n",
       "      <td>16</td>\n",
       "      <td>21.224</td>\n",
       "      <td>66999</td>\n",
       "      <td>10.30</td>\n",
       "    </tr>\n",
       "  </tbody>\n",
       "</table>\n",
       "</div>"
      ],
      "text/plain": [
       "           동영상                                             동영상 제목  \\\n",
       "0           합계                                                NaN   \n",
       "1  zONfGalNqMY                            에이치엘비, 유상증자 뒤 급등사례 한미약품   \n",
       "2  4mzVtXuq4aQ  에이치엘비, 임상3상 구두 발표 뉴스기사 나왔습니다. 수익 나는 기업의 모습을 갖춰...   \n",
       "3  Im2tab42mW4       에이치엘비 신주인수권 월요일 '매수/매도/가만히'를 준비하세요. (유상증자청약)   \n",
       "4  Qg1GIWW5Lbk  에이치엘비 무상증자는 6월4일 매수 후 하룻밤 지나야합니다. 레고켐바이오와 비디아이...   \n",
       "\n",
       "      동영상 게시 시간     조회수  시청 시간(단위: 시간)   구독자  추정 수익 (USD)      노출수  노출 클릭률 (%)  \n",
       "0           NaN  974790     73225.0067  1471     3214.514  7942494        8.13  \n",
       "1  Apr 20, 2020   15320      1836.3546    28       48.040   143608        7.51  \n",
       "2  May 30, 2020   14024      1210.0558    36       66.821    62390       15.47  \n",
       "3   May 9, 2020   12166      1001.2145    32       51.584    85631        8.37  \n",
       "4   Jun 1, 2020   10362       854.2180    16       21.224    66999       10.30  "
      ]
     },
     "execution_count": 47,
     "metadata": {},
     "output_type": "execute_result"
    }
   ],
   "source": [
    "import numpy as np\n",
    "import pandas as pd\n",
    "\n",
    "df = pd.read_csv('표 데이터.csv')\n",
    "df.head()"
   ]
  },
  {
   "cell_type": "markdown",
   "metadata": {},
   "source": [
    "## Drop"
   ]
  },
  {
   "cell_type": "code",
   "execution_count": 48,
   "metadata": {},
   "outputs": [
    {
     "data": {
      "text/html": [
       "<div>\n",
       "<style scoped>\n",
       "    .dataframe tbody tr th:only-of-type {\n",
       "        vertical-align: middle;\n",
       "    }\n",
       "\n",
       "    .dataframe tbody tr th {\n",
       "        vertical-align: top;\n",
       "    }\n",
       "\n",
       "    .dataframe thead th {\n",
       "        text-align: right;\n",
       "    }\n",
       "</style>\n",
       "<table border=\"1\" class=\"dataframe\">\n",
       "  <thead>\n",
       "    <tr style=\"text-align: right;\">\n",
       "      <th></th>\n",
       "      <th>동영상 제목</th>\n",
       "      <th>동영상 게시 시간</th>\n",
       "      <th>조회수</th>\n",
       "    </tr>\n",
       "  </thead>\n",
       "  <tbody>\n",
       "    <tr>\n",
       "      <th>1</th>\n",
       "      <td>에이치엘비, 유상증자 뒤 급등사례 한미약품</td>\n",
       "      <td>Apr 20, 2020</td>\n",
       "      <td>15320</td>\n",
       "    </tr>\n",
       "    <tr>\n",
       "      <th>2</th>\n",
       "      <td>에이치엘비, 임상3상 구두 발표 뉴스기사 나왔습니다. 수익 나는 기업의 모습을 갖춰...</td>\n",
       "      <td>May 30, 2020</td>\n",
       "      <td>14024</td>\n",
       "    </tr>\n",
       "    <tr>\n",
       "      <th>3</th>\n",
       "      <td>에이치엘비 신주인수권 월요일 '매수/매도/가만히'를 준비하세요. (유상증자청약)</td>\n",
       "      <td>May 9, 2020</td>\n",
       "      <td>12166</td>\n",
       "    </tr>\n",
       "    <tr>\n",
       "      <th>4</th>\n",
       "      <td>에이치엘비 무상증자는 6월4일 매수 후 하룻밤 지나야합니다. 레고켐바이오와 비디아이...</td>\n",
       "      <td>Jun 1, 2020</td>\n",
       "      <td>10362</td>\n",
       "    </tr>\n",
       "    <tr>\n",
       "      <th>5</th>\n",
       "      <td>에이치엘비 갭상승 이유는 MSCI 리밸런싱!! 그리고 높아지는 중국비중(ETF) |...</td>\n",
       "      <td>May 29, 2020</td>\n",
       "      <td>10215</td>\n",
       "    </tr>\n",
       "  </tbody>\n",
       "</table>\n",
       "</div>"
      ],
      "text/plain": [
       "                                              동영상 제목     동영상 게시 시간    조회수\n",
       "1                            에이치엘비, 유상증자 뒤 급등사례 한미약품  Apr 20, 2020  15320\n",
       "2  에이치엘비, 임상3상 구두 발표 뉴스기사 나왔습니다. 수익 나는 기업의 모습을 갖춰...  May 30, 2020  14024\n",
       "3       에이치엘비 신주인수권 월요일 '매수/매도/가만히'를 준비하세요. (유상증자청약)   May 9, 2020  12166\n",
       "4  에이치엘비 무상증자는 6월4일 매수 후 하룻밤 지나야합니다. 레고켐바이오와 비디아이...   Jun 1, 2020  10362\n",
       "5  에이치엘비 갭상승 이유는 MSCI 리밸런싱!! 그리고 높아지는 중국비중(ETF) |...  May 29, 2020  10215"
      ]
     },
     "execution_count": 48,
     "metadata": {},
     "output_type": "execute_result"
    }
   ],
   "source": [
    "df = df.drop(0)  # 첫줄(합계) row 삭제\n",
    "df = df.drop(['동영상', '시청 시간(단위: 시간)','구독자','추정 수익 (USD)','노출수','노출 클릭률 (%)'], axis=1)  # 필요없는 column 삭제\n",
    "df.head()"
   ]
  },
  {
   "cell_type": "markdown",
   "metadata": {},
   "source": [
    "## 동영상 게시 시간\n",
    "- Apr 20, 2020 → 2020-04-20\n",
    "- FinanceDataReader와 Format 통일"
   ]
  },
  {
   "cell_type": "code",
   "execution_count": 49,
   "metadata": {},
   "outputs": [
    {
     "data": {
      "text/html": [
       "<div>\n",
       "<style scoped>\n",
       "    .dataframe tbody tr th:only-of-type {\n",
       "        vertical-align: middle;\n",
       "    }\n",
       "\n",
       "    .dataframe tbody tr th {\n",
       "        vertical-align: top;\n",
       "    }\n",
       "\n",
       "    .dataframe thead th {\n",
       "        text-align: right;\n",
       "    }\n",
       "</style>\n",
       "<table border=\"1\" class=\"dataframe\">\n",
       "  <thead>\n",
       "    <tr style=\"text-align: right;\">\n",
       "      <th></th>\n",
       "      <th>동영상 제목</th>\n",
       "      <th>동영상 게시 시간</th>\n",
       "      <th>조회수</th>\n",
       "    </tr>\n",
       "  </thead>\n",
       "  <tbody>\n",
       "    <tr>\n",
       "      <th>1</th>\n",
       "      <td>에이치엘비, 유상증자 뒤 급등사례 한미약품</td>\n",
       "      <td>2020-04-20</td>\n",
       "      <td>15320</td>\n",
       "    </tr>\n",
       "    <tr>\n",
       "      <th>2</th>\n",
       "      <td>에이치엘비, 임상3상 구두 발표 뉴스기사 나왔습니다. 수익 나는 기업의 모습을 갖춰...</td>\n",
       "      <td>2020-05-30</td>\n",
       "      <td>14024</td>\n",
       "    </tr>\n",
       "    <tr>\n",
       "      <th>3</th>\n",
       "      <td>에이치엘비 신주인수권 월요일 '매수/매도/가만히'를 준비하세요. (유상증자청약)</td>\n",
       "      <td>2020-05-09</td>\n",
       "      <td>12166</td>\n",
       "    </tr>\n",
       "    <tr>\n",
       "      <th>4</th>\n",
       "      <td>에이치엘비 무상증자는 6월4일 매수 후 하룻밤 지나야합니다. 레고켐바이오와 비디아이...</td>\n",
       "      <td>2020-06-01</td>\n",
       "      <td>10362</td>\n",
       "    </tr>\n",
       "    <tr>\n",
       "      <th>5</th>\n",
       "      <td>에이치엘비 갭상승 이유는 MSCI 리밸런싱!! 그리고 높아지는 중국비중(ETF) |...</td>\n",
       "      <td>2020-05-29</td>\n",
       "      <td>10215</td>\n",
       "    </tr>\n",
       "  </tbody>\n",
       "</table>\n",
       "</div>"
      ],
      "text/plain": [
       "                                              동영상 제목  동영상 게시 시간    조회수\n",
       "1                            에이치엘비, 유상증자 뒤 급등사례 한미약품 2020-04-20  15320\n",
       "2  에이치엘비, 임상3상 구두 발표 뉴스기사 나왔습니다. 수익 나는 기업의 모습을 갖춰... 2020-05-30  14024\n",
       "3       에이치엘비 신주인수권 월요일 '매수/매도/가만히'를 준비하세요. (유상증자청약) 2020-05-09  12166\n",
       "4  에이치엘비 무상증자는 6월4일 매수 후 하룻밤 지나야합니다. 레고켐바이오와 비디아이... 2020-06-01  10362\n",
       "5  에이치엘비 갭상승 이유는 MSCI 리밸런싱!! 그리고 높아지는 중국비중(ETF) |... 2020-05-29  10215"
      ]
     },
     "execution_count": 49,
     "metadata": {},
     "output_type": "execute_result"
    }
   ],
   "source": [
    "df['동영상 게시 시간'] = pd.to_datetime(df['동영상 게시 시간'])\n",
    "df.head()"
   ]
  },
  {
   "cell_type": "markdown",
   "metadata": {},
   "source": [
    "## Feature\n",
    "- 1월|2월|3월 == 1월 or 2월 or 3월\n",
    "- 주의사항: 마지막에 | 쓰면 전부 or로 해당 됨. ex)-29%|-30%| (X) "
   ]
  },
  {
   "cell_type": "code",
   "execution_count": 50,
   "metadata": {},
   "outputs": [
    {
     "data": {
      "text/html": [
       "<div>\n",
       "<style scoped>\n",
       "    .dataframe tbody tr th:only-of-type {\n",
       "        vertical-align: middle;\n",
       "    }\n",
       "\n",
       "    .dataframe tbody tr th {\n",
       "        vertical-align: top;\n",
       "    }\n",
       "\n",
       "    .dataframe thead th {\n",
       "        text-align: right;\n",
       "    }\n",
       "</style>\n",
       "<table border=\"1\" class=\"dataframe\">\n",
       "  <thead>\n",
       "    <tr style=\"text-align: right;\">\n",
       "      <th></th>\n",
       "      <th>동영상 제목</th>\n",
       "      <th>동영상 게시 시간</th>\n",
       "      <th>조회수</th>\n",
       "      <th>에이치엘비</th>\n",
       "      <th>일정</th>\n",
       "      <th>악재</th>\n",
       "      <th>y_label</th>\n",
       "    </tr>\n",
       "  </thead>\n",
       "  <tbody>\n",
       "    <tr>\n",
       "      <th>1</th>\n",
       "      <td>에이치엘비, 유상증자 뒤 급등사례 한미약품</td>\n",
       "      <td>2020-04-20</td>\n",
       "      <td>15320</td>\n",
       "      <td>1</td>\n",
       "      <td>0</td>\n",
       "      <td>0</td>\n",
       "      <td>1</td>\n",
       "    </tr>\n",
       "    <tr>\n",
       "      <th>2</th>\n",
       "      <td>에이치엘비, 임상3상 구두 발표 뉴스기사 나왔습니다. 수익 나는 기업의 모습을 갖춰...</td>\n",
       "      <td>2020-05-30</td>\n",
       "      <td>14024</td>\n",
       "      <td>1</td>\n",
       "      <td>1</td>\n",
       "      <td>0</td>\n",
       "      <td>1</td>\n",
       "    </tr>\n",
       "    <tr>\n",
       "      <th>3</th>\n",
       "      <td>에이치엘비 신주인수권 월요일 '매수/매도/가만히'를 준비하세요. (유상증자청약)</td>\n",
       "      <td>2020-05-09</td>\n",
       "      <td>12166</td>\n",
       "      <td>1</td>\n",
       "      <td>1</td>\n",
       "      <td>0</td>\n",
       "      <td>1</td>\n",
       "    </tr>\n",
       "    <tr>\n",
       "      <th>4</th>\n",
       "      <td>에이치엘비 무상증자는 6월4일 매수 후 하룻밤 지나야합니다. 레고켐바이오와 비디아이...</td>\n",
       "      <td>2020-06-01</td>\n",
       "      <td>10362</td>\n",
       "      <td>1</td>\n",
       "      <td>1</td>\n",
       "      <td>0</td>\n",
       "      <td>1</td>\n",
       "    </tr>\n",
       "    <tr>\n",
       "      <th>5</th>\n",
       "      <td>에이치엘비 갭상승 이유는 MSCI 리밸런싱!! 그리고 높아지는 중국비중(ETF) |...</td>\n",
       "      <td>2020-05-29</td>\n",
       "      <td>10215</td>\n",
       "      <td>1</td>\n",
       "      <td>0</td>\n",
       "      <td>0</td>\n",
       "      <td>1</td>\n",
       "    </tr>\n",
       "  </tbody>\n",
       "</table>\n",
       "</div>"
      ],
      "text/plain": [
       "                                              동영상 제목  동영상 게시 시간    조회수  에이치엘비  \\\n",
       "1                            에이치엘비, 유상증자 뒤 급등사례 한미약품 2020-04-20  15320      1   \n",
       "2  에이치엘비, 임상3상 구두 발표 뉴스기사 나왔습니다. 수익 나는 기업의 모습을 갖춰... 2020-05-30  14024      1   \n",
       "3       에이치엘비 신주인수권 월요일 '매수/매도/가만히'를 준비하세요. (유상증자청약) 2020-05-09  12166      1   \n",
       "4  에이치엘비 무상증자는 6월4일 매수 후 하룻밤 지나야합니다. 레고켐바이오와 비디아이... 2020-06-01  10362      1   \n",
       "5  에이치엘비 갭상승 이유는 MSCI 리밸런싱!! 그리고 높아지는 중국비중(ETF) |... 2020-05-29  10215      1   \n",
       "\n",
       "   일정  악재  y_label  \n",
       "1   0   0        1  \n",
       "2   1   0        1  \n",
       "3   1   0        1  \n",
       "4   1   0        1  \n",
       "5   0   0        1  "
      ]
     },
     "execution_count": 50,
     "metadata": {},
     "output_type": "execute_result"
    }
   ],
   "source": [
    "df['에이치엘비'] = (df['동영상 제목'].str.contains('에이치엘비')).astype(int)\n",
    "df['일정'] = (df['동영상 제목'].str.contains('1월|2월|3월|4월|5월|6월|7월|8월|9월|10월|11월|12월|1일|2일|3일|4일|5일|6일|7일|8일|9일|10일|11일|12일|13일|13일|14일|15일|16일|17일|18일|19일|20일|21일|22일|23일|24일|25일|26일|27일|28일|29일|30일|31일|요일|내일|이번주|다음주')).astype(int) \n",
    "df['악재'] = (df['동영상 제목'].str.contains('하한가|-10%|-11%|-12%|-13%|-14%|-15%|-16%|-17%|-18%|-19%|-20%|-21%|-22%|-23%|-24%|-25%|-26%|-27%|-28%|-29%|-30%')).astype(int)\n",
    "df['y_label'] = (df['조회수']>df['조회수'].mean()).astype(int)\n",
    "df.head()"
   ]
  },
  {
   "cell_type": "markdown",
   "metadata": {},
   "source": [
    "<br>\n",
    "<br>\n",
    "<br>\n",
    "<br>\n",
    "<br>\n",
    "<br>\n",
    "<br>\n",
    "<br>\n",
    "<br>\n",
    "<br>"
   ]
  },
  {
   "cell_type": "markdown",
   "metadata": {},
   "source": [
    "# KOSDAQ Change\n",
    "- 주의사항: 업로드는 주말에도 하지만, 주가는 주말에는 없다.\n",
    "- KS11 코스피지수\n",
    "- KQ11 코스닥지수"
   ]
  },
  {
   "cell_type": "markdown",
   "metadata": {},
   "source": [
    "## 불러오기"
   ]
  },
  {
   "cell_type": "code",
   "execution_count": 51,
   "metadata": {},
   "outputs": [
    {
     "data": {
      "text/html": [
       "<div>\n",
       "<style scoped>\n",
       "    .dataframe tbody tr th:only-of-type {\n",
       "        vertical-align: middle;\n",
       "    }\n",
       "\n",
       "    .dataframe tbody tr th {\n",
       "        vertical-align: top;\n",
       "    }\n",
       "\n",
       "    .dataframe thead th {\n",
       "        text-align: right;\n",
       "    }\n",
       "</style>\n",
       "<table border=\"1\" class=\"dataframe\">\n",
       "  <thead>\n",
       "    <tr style=\"text-align: right;\">\n",
       "      <th></th>\n",
       "      <th>Close</th>\n",
       "      <th>Open</th>\n",
       "      <th>High</th>\n",
       "      <th>Low</th>\n",
       "      <th>Volume</th>\n",
       "      <th>Change</th>\n",
       "    </tr>\n",
       "    <tr>\n",
       "      <th>Date</th>\n",
       "      <th></th>\n",
       "      <th></th>\n",
       "      <th></th>\n",
       "      <th></th>\n",
       "      <th></th>\n",
       "      <th></th>\n",
       "    </tr>\n",
       "  </thead>\n",
       "  <tbody>\n",
       "    <tr>\n",
       "      <th>2020-06-12</th>\n",
       "      <td>746.06</td>\n",
       "      <td>722.91</td>\n",
       "      <td>747.37</td>\n",
       "      <td>722.81</td>\n",
       "      <td>1.320000e+09</td>\n",
       "      <td>-0.0145</td>\n",
       "    </tr>\n",
       "    <tr>\n",
       "      <th>2020-06-15</th>\n",
       "      <td>693.15</td>\n",
       "      <td>745.60</td>\n",
       "      <td>747.21</td>\n",
       "      <td>693.15</td>\n",
       "      <td>1.470000e+09</td>\n",
       "      <td>-0.0709</td>\n",
       "    </tr>\n",
       "    <tr>\n",
       "      <th>2020-06-16</th>\n",
       "      <td>735.38</td>\n",
       "      <td>716.60</td>\n",
       "      <td>735.74</td>\n",
       "      <td>714.14</td>\n",
       "      <td>1.320000e+09</td>\n",
       "      <td>0.0609</td>\n",
       "    </tr>\n",
       "    <tr>\n",
       "      <th>2020-06-17</th>\n",
       "      <td>735.40</td>\n",
       "      <td>731.91</td>\n",
       "      <td>743.11</td>\n",
       "      <td>717.68</td>\n",
       "      <td>1.400000e+06</td>\n",
       "      <td>0.0000</td>\n",
       "    </tr>\n",
       "    <tr>\n",
       "      <th>2020-06-18</th>\n",
       "      <td>735.84</td>\n",
       "      <td>738.11</td>\n",
       "      <td>743.12</td>\n",
       "      <td>732.92</td>\n",
       "      <td>6.435700e+05</td>\n",
       "      <td>0.0006</td>\n",
       "    </tr>\n",
       "  </tbody>\n",
       "</table>\n",
       "</div>"
      ],
      "text/plain": [
       "             Close    Open    High     Low        Volume  Change\n",
       "Date                                                            \n",
       "2020-06-12  746.06  722.91  747.37  722.81  1.320000e+09 -0.0145\n",
       "2020-06-15  693.15  745.60  747.21  693.15  1.470000e+09 -0.0709\n",
       "2020-06-16  735.38  716.60  735.74  714.14  1.320000e+09  0.0609\n",
       "2020-06-17  735.40  731.91  743.11  717.68  1.400000e+06  0.0000\n",
       "2020-06-18  735.84  738.11  743.12  732.92  6.435700e+05  0.0006"
      ]
     },
     "execution_count": 51,
     "metadata": {},
     "output_type": "execute_result"
    }
   ],
   "source": [
    "import FinanceDataReader as fdr\n",
    "\n",
    "kq11 = fdr.DataReader('KQ11', '2020-01-01')\n",
    "kq11.tail()"
   ]
  },
  {
   "cell_type": "markdown",
   "metadata": {},
   "source": [
    "## Change를 1,0으로 변환"
   ]
  },
  {
   "cell_type": "code",
   "execution_count": 52,
   "metadata": {},
   "outputs": [
    {
     "data": {
      "text/html": [
       "<div>\n",
       "<style scoped>\n",
       "    .dataframe tbody tr th:only-of-type {\n",
       "        vertical-align: middle;\n",
       "    }\n",
       "\n",
       "    .dataframe tbody tr th {\n",
       "        vertical-align: top;\n",
       "    }\n",
       "\n",
       "    .dataframe thead th {\n",
       "        text-align: right;\n",
       "    }\n",
       "</style>\n",
       "<table border=\"1\" class=\"dataframe\">\n",
       "  <thead>\n",
       "    <tr style=\"text-align: right;\">\n",
       "      <th></th>\n",
       "      <th>Close</th>\n",
       "      <th>Open</th>\n",
       "      <th>High</th>\n",
       "      <th>Low</th>\n",
       "      <th>Volume</th>\n",
       "      <th>Change</th>\n",
       "    </tr>\n",
       "    <tr>\n",
       "      <th>Date</th>\n",
       "      <th></th>\n",
       "      <th></th>\n",
       "      <th></th>\n",
       "      <th></th>\n",
       "      <th></th>\n",
       "      <th></th>\n",
       "    </tr>\n",
       "  </thead>\n",
       "  <tbody>\n",
       "    <tr>\n",
       "      <th>2020-06-12</th>\n",
       "      <td>746.06</td>\n",
       "      <td>722.91</td>\n",
       "      <td>747.37</td>\n",
       "      <td>722.81</td>\n",
       "      <td>1.320000e+09</td>\n",
       "      <td>0</td>\n",
       "    </tr>\n",
       "    <tr>\n",
       "      <th>2020-06-15</th>\n",
       "      <td>693.15</td>\n",
       "      <td>745.60</td>\n",
       "      <td>747.21</td>\n",
       "      <td>693.15</td>\n",
       "      <td>1.470000e+09</td>\n",
       "      <td>0</td>\n",
       "    </tr>\n",
       "    <tr>\n",
       "      <th>2020-06-16</th>\n",
       "      <td>735.38</td>\n",
       "      <td>716.60</td>\n",
       "      <td>735.74</td>\n",
       "      <td>714.14</td>\n",
       "      <td>1.320000e+09</td>\n",
       "      <td>1</td>\n",
       "    </tr>\n",
       "    <tr>\n",
       "      <th>2020-06-17</th>\n",
       "      <td>735.40</td>\n",
       "      <td>731.91</td>\n",
       "      <td>743.11</td>\n",
       "      <td>717.68</td>\n",
       "      <td>1.400000e+06</td>\n",
       "      <td>0</td>\n",
       "    </tr>\n",
       "    <tr>\n",
       "      <th>2020-06-18</th>\n",
       "      <td>735.84</td>\n",
       "      <td>738.11</td>\n",
       "      <td>743.12</td>\n",
       "      <td>732.92</td>\n",
       "      <td>6.435700e+05</td>\n",
       "      <td>1</td>\n",
       "    </tr>\n",
       "  </tbody>\n",
       "</table>\n",
       "</div>"
      ],
      "text/plain": [
       "             Close    Open    High     Low        Volume  Change\n",
       "Date                                                            \n",
       "2020-06-12  746.06  722.91  747.37  722.81  1.320000e+09       0\n",
       "2020-06-15  693.15  745.60  747.21  693.15  1.470000e+09       0\n",
       "2020-06-16  735.38  716.60  735.74  714.14  1.320000e+09       1\n",
       "2020-06-17  735.40  731.91  743.11  717.68  1.400000e+06       0\n",
       "2020-06-18  735.84  738.11  743.12  732.92  6.435700e+05       1"
      ]
     },
     "execution_count": 52,
     "metadata": {},
     "output_type": "execute_result"
    }
   ],
   "source": [
    "kq11['Change'] = (kq11['Change'] > 0).astype(int)\n",
    "kq11.tail()"
   ]
  },
  {
   "cell_type": "markdown",
   "metadata": {},
   "source": [
    "# 동영상 게시 시간에 해당하는 KOSDAQ Change 찾아서 병합\n",
    "- 차후 좀 더 간단한 코드로 변경\n",
    "- 주말은 change=1"
   ]
  },
  {
   "cell_type": "code",
   "execution_count": 53,
   "metadata": {},
   "outputs": [
    {
     "data": {
      "text/plain": [
       "[1.0, 1.0, 1.0, 1.0, 1.0]"
      ]
     },
     "execution_count": 53,
     "metadata": {},
     "output_type": "execute_result"
    }
   ],
   "source": [
    "list = []\n",
    "for i in range(len(df)):\n",
    "    try:\n",
    "        list.append(kq11.loc[df['동영상 게시 시간'][i+1]]['Change'])\n",
    "    except:\n",
    "        list.append(1.0)\n",
    "list[:5]"
   ]
  },
  {
   "cell_type": "code",
   "execution_count": 54,
   "metadata": {},
   "outputs": [
    {
     "data": {
      "text/html": [
       "<div>\n",
       "<style scoped>\n",
       "    .dataframe tbody tr th:only-of-type {\n",
       "        vertical-align: middle;\n",
       "    }\n",
       "\n",
       "    .dataframe tbody tr th {\n",
       "        vertical-align: top;\n",
       "    }\n",
       "\n",
       "    .dataframe thead th {\n",
       "        text-align: right;\n",
       "    }\n",
       "</style>\n",
       "<table border=\"1\" class=\"dataframe\">\n",
       "  <thead>\n",
       "    <tr style=\"text-align: right;\">\n",
       "      <th></th>\n",
       "      <th>동영상 제목</th>\n",
       "      <th>동영상 게시 시간</th>\n",
       "      <th>조회수</th>\n",
       "      <th>에이치엘비</th>\n",
       "      <th>일정</th>\n",
       "      <th>악재</th>\n",
       "      <th>y_label</th>\n",
       "      <th>kosdaq_change</th>\n",
       "    </tr>\n",
       "  </thead>\n",
       "  <tbody>\n",
       "    <tr>\n",
       "      <th>1</th>\n",
       "      <td>에이치엘비, 유상증자 뒤 급등사례 한미약품</td>\n",
       "      <td>2020-04-20</td>\n",
       "      <td>15320</td>\n",
       "      <td>1</td>\n",
       "      <td>0</td>\n",
       "      <td>0</td>\n",
       "      <td>1</td>\n",
       "      <td>1.0</td>\n",
       "    </tr>\n",
       "    <tr>\n",
       "      <th>2</th>\n",
       "      <td>에이치엘비, 임상3상 구두 발표 뉴스기사 나왔습니다. 수익 나는 기업의 모습을 갖춰...</td>\n",
       "      <td>2020-05-30</td>\n",
       "      <td>14024</td>\n",
       "      <td>1</td>\n",
       "      <td>1</td>\n",
       "      <td>0</td>\n",
       "      <td>1</td>\n",
       "      <td>1.0</td>\n",
       "    </tr>\n",
       "    <tr>\n",
       "      <th>3</th>\n",
       "      <td>에이치엘비 신주인수권 월요일 '매수/매도/가만히'를 준비하세요. (유상증자청약)</td>\n",
       "      <td>2020-05-09</td>\n",
       "      <td>12166</td>\n",
       "      <td>1</td>\n",
       "      <td>1</td>\n",
       "      <td>0</td>\n",
       "      <td>1</td>\n",
       "      <td>1.0</td>\n",
       "    </tr>\n",
       "    <tr>\n",
       "      <th>4</th>\n",
       "      <td>에이치엘비 무상증자는 6월4일 매수 후 하룻밤 지나야합니다. 레고켐바이오와 비디아이...</td>\n",
       "      <td>2020-06-01</td>\n",
       "      <td>10362</td>\n",
       "      <td>1</td>\n",
       "      <td>1</td>\n",
       "      <td>0</td>\n",
       "      <td>1</td>\n",
       "      <td>1.0</td>\n",
       "    </tr>\n",
       "    <tr>\n",
       "      <th>5</th>\n",
       "      <td>에이치엘비 갭상승 이유는 MSCI 리밸런싱!! 그리고 높아지는 중국비중(ETF) |...</td>\n",
       "      <td>2020-05-29</td>\n",
       "      <td>10215</td>\n",
       "      <td>1</td>\n",
       "      <td>0</td>\n",
       "      <td>0</td>\n",
       "      <td>1</td>\n",
       "      <td>1.0</td>\n",
       "    </tr>\n",
       "  </tbody>\n",
       "</table>\n",
       "</div>"
      ],
      "text/plain": [
       "                                              동영상 제목  동영상 게시 시간    조회수  에이치엘비  \\\n",
       "1                            에이치엘비, 유상증자 뒤 급등사례 한미약품 2020-04-20  15320      1   \n",
       "2  에이치엘비, 임상3상 구두 발표 뉴스기사 나왔습니다. 수익 나는 기업의 모습을 갖춰... 2020-05-30  14024      1   \n",
       "3       에이치엘비 신주인수권 월요일 '매수/매도/가만히'를 준비하세요. (유상증자청약) 2020-05-09  12166      1   \n",
       "4  에이치엘비 무상증자는 6월4일 매수 후 하룻밤 지나야합니다. 레고켐바이오와 비디아이... 2020-06-01  10362      1   \n",
       "5  에이치엘비 갭상승 이유는 MSCI 리밸런싱!! 그리고 높아지는 중국비중(ETF) |... 2020-05-29  10215      1   \n",
       "\n",
       "   일정  악재  y_label  kosdaq_change  \n",
       "1   0   0        1            1.0  \n",
       "2   1   0        1            1.0  \n",
       "3   1   0        1            1.0  \n",
       "4   1   0        1            1.0  \n",
       "5   0   0        1            1.0  "
      ]
     },
     "execution_count": 54,
     "metadata": {},
     "output_type": "execute_result"
    }
   ],
   "source": [
    "df['kosdaq_change'] = list\n",
    "df.head()"
   ]
  },
  {
   "cell_type": "markdown",
   "metadata": {},
   "source": [
    "<br>\n",
    "<br>\n",
    "<br>\n",
    "<br>\n",
    "<br>\n",
    "<br>\n",
    "<br>\n",
    "<br>\n",
    "<br>\n",
    "<br>"
   ]
  },
  {
   "cell_type": "markdown",
   "metadata": {},
   "source": [
    "# Machine Learning"
   ]
  },
  {
   "cell_type": "code",
   "execution_count": 55,
   "metadata": {},
   "outputs": [],
   "source": [
    "X = df[['에이치엘비','일정', 'kosdaq_change', '악재']]\n",
    "y = df['y_label']"
   ]
  },
  {
   "cell_type": "code",
   "execution_count": 56,
   "metadata": {},
   "outputs": [],
   "source": [
    "from sklearn.model_selection import train_test_split\n",
    "X_train, X_test, y_train, y_test = train_test_split(X,y)"
   ]
  },
  {
   "cell_type": "code",
   "execution_count": 57,
   "metadata": {},
   "outputs": [
    {
     "name": "stderr",
     "output_type": "stream",
     "text": [
      "C:\\Users\\user\\Anaconda3\\lib\\site-packages\\sklearn\\linear_model\\logistic.py:433: FutureWarning: Default solver will be changed to 'lbfgs' in 0.22. Specify a solver to silence this warning.\n",
      "  FutureWarning)\n"
     ]
    },
    {
     "data": {
      "text/plain": [
       "0.7571428571428571"
      ]
     },
     "execution_count": 57,
     "metadata": {},
     "output_type": "execute_result"
    }
   ],
   "source": [
    "from sklearn.linear_model import LogisticRegression\n",
    "logreg = LogisticRegression().fit(X_train, y_train)\n",
    "logreg.score(X_test, y_test)"
   ]
  },
  {
   "cell_type": "code",
   "execution_count": 58,
   "metadata": {},
   "outputs": [
    {
     "name": "stdout",
     "output_type": "stream",
     "text": [
      "[0]\n"
     ]
    }
   ],
   "source": [
    "pred = logreg.predict([[0,1,1,1]])\n",
    "print(pred)"
   ]
  },
  {
   "cell_type": "markdown",
   "metadata": {},
   "source": [
    "## 확률"
   ]
  },
  {
   "cell_type": "code",
   "execution_count": 59,
   "metadata": {},
   "outputs": [
    {
     "data": {
      "text/plain": [
       "array([[0.32363379, 0.67636621]])"
      ]
     },
     "execution_count": 59,
     "metadata": {},
     "output_type": "execute_result"
    }
   ],
   "source": [
    "logreg.predict_proba([[1,0,0,0]]) # 에이치엘비"
   ]
  },
  {
   "cell_type": "code",
   "execution_count": 60,
   "metadata": {},
   "outputs": [
    {
     "data": {
      "text/plain": [
       "array([[0.24857165, 0.75142835]])"
      ]
     },
     "execution_count": 60,
     "metadata": {},
     "output_type": "execute_result"
    }
   ],
   "source": [
    "logreg.predict_proba([[1,0,0,1]]) # 에이치엘비 + 악재"
   ]
  },
  {
   "cell_type": "code",
   "execution_count": 61,
   "metadata": {},
   "outputs": [
    {
     "data": {
      "text/plain": [
       "array([[0.12409492, 0.87590508]])"
      ]
     },
     "execution_count": 61,
     "metadata": {},
     "output_type": "execute_result"
    }
   ],
   "source": [
    "logreg.predict_proba([[1,1,0,0]]) # 에이치엘비 + 일정"
   ]
  },
  {
   "cell_type": "code",
   "execution_count": 62,
   "metadata": {},
   "outputs": [
    {
     "data": {
      "text/plain": [
       "array([[0.08920883, 0.91079117]])"
      ]
     },
     "execution_count": 62,
     "metadata": {},
     "output_type": "execute_result"
    }
   ],
   "source": [
    "logreg.predict_proba([[1,1,0,1]]) # 에이치엘비 + 일정 + 악재"
   ]
  },
  {
   "cell_type": "markdown",
   "metadata": {},
   "source": [
    "## 결론\n",
    "에이치엘비+일정+악재가 조회수가 높다.\n",
    "\n",
    "중요도는 순서대로 1.에이치엘비 2.일정 3.악재"
   ]
  }
 ],
 "metadata": {
  "kernelspec": {
   "display_name": "Python 3",
   "language": "python",
   "name": "python3"
  },
  "language_info": {
   "codemirror_mode": {
    "name": "ipython",
    "version": 3
   },
   "file_extension": ".py",
   "mimetype": "text/x-python",
   "name": "python",
   "nbconvert_exporter": "python",
   "pygments_lexer": "ipython3",
   "version": "3.7.3"
  }
 },
 "nbformat": 4,
 "nbformat_minor": 2
}
